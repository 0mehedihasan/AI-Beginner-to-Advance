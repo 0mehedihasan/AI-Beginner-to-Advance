{
  "nbformat": 4,
  "nbformat_minor": 0,
  "metadata": {
    "colab": {
      "provenance": [],
      "authorship_tag": "ABX9TyOJNPLHqw89s0m8NIzBhe84",
      "include_colab_link": true
    },
    "kernelspec": {
      "name": "python3",
      "display_name": "Python 3"
    },
    "language_info": {
      "name": "python"
    }
  },
  "cells": [
    {
      "cell_type": "markdown",
      "metadata": {
        "id": "view-in-github",
        "colab_type": "text"
      },
      "source": [
        "<a href=\"https://colab.research.google.com/github/0mehedihasan/AI-Beginner-to-Advance/blob/main/q3.ipynb\" target=\"_parent\"><img src=\"https://colab.research.google.com/assets/colab-badge.svg\" alt=\"Open In Colab\"/></a>"
      ]
    },
    {
      "cell_type": "code",
      "execution_count": null,
      "metadata": {
        "id": "zJEKa6FLrUVS"
      },
      "outputs": [],
      "source": [
        "import matplotlib.pyplot as plt\n",
        "import numpy as np\n",
        "\n",
        "# Data from the table\n",
        "days = ['Monday', 'Tuesday', 'Wednesday', 'Thursday', 'Friday', 'Saturday', 'Sunday']\n",
        "home_traffic = [500, 550, 600, 620, 700, 750, 800]\n",
        "blog_traffic = [200, 220, 250, 260, 300, 350, 400]\n",
        "shop_traffic = [150, 180, 200, 210, 250, 300, 350]\n",
        "\n",
        "# Line graph\n",
        "plt.figure(figsize=(10, 6))\n",
        "plt.plot(days, home_traffic, label='Home')\n",
        "plt.plot(days, blog_traffic, label='Blog')\n",
        "plt.plot(days, shop_traffic, label='Shop')\n",
        "plt.xlabel('Day')\n",
        "plt.ylabel('Daily Traffic')\n",
        "plt.title('Daily Website Traffic')\n",
        "plt.legend()\n",
        "plt.xticks(rotation=45)\n",
        "plt.grid(True)\n",
        "plt.show()\n",
        "\n",
        "# Bar chart\n",
        "total_home_traffic = sum(home_traffic)\n",
        "total_blog_traffic = sum(blog_traffic)\n",
        "total_shop_traffic = sum(shop_traffic)\n",
        "\n",
        "categories = ['Home', 'Blog', 'Shop']\n",
        "traffic_values = [total_home_traffic, total_blog_traffic, total_shop_traffic]\n",
        "\n",
        "plt.figure(figsize=(8, 6))\n",
        "plt.bar(categories, traffic_values)\n",
        "plt.xlabel('Category')\n",
        "plt.ylabel('Total Weekly Traffic')\n",
        "plt.title('Total Weekly Website Traffic')\n",
        "plt.show()"
      ]
    }
  ]
}