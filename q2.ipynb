{
  "nbformat": 4,
  "nbformat_minor": 0,
  "metadata": {
    "colab": {
      "provenance": [],
      "authorship_tag": "ABX9TyO326Ag6LxB7x9T5EwWb/wJ",
      "include_colab_link": true
    },
    "kernelspec": {
      "name": "python3",
      "display_name": "Python 3"
    },
    "language_info": {
      "name": "python"
    }
  },
  "cells": [
    {
      "cell_type": "markdown",
      "metadata": {
        "id": "view-in-github",
        "colab_type": "text"
      },
      "source": [
        "<a href=\"https://colab.research.google.com/github/0mehedihasan/AI-Beginner-to-Advance/blob/main/q2.ipynb\" target=\"_parent\"><img src=\"https://colab.research.google.com/assets/colab-badge.svg\" alt=\"Open In Colab\"/></a>"
      ]
    },
    {
      "cell_type": "code",
      "execution_count": null,
      "metadata": {
        "id": "b30bhl_TrDlD"
      },
      "outputs": [],
      "source": [
        "import pandas as pd\n",
        "\n",
        "# Create a DataFrame from the given data\n",
        "data = {'Product Name': ['Laptop', 'Smartphone', 'Tablet', 'Headphones', 'Smartwatch', 'Camera', 'Printer'],\n",
        "        'Sales (Last Quarter)': [500, 1200, NaN, 300, 200, 150, 400],\n",
        "        'Stock': [90, 300, 100, 0, NaN, 150, 80],\n",
        "        'Reviewed': [1, 0, NaN, 1, 1, 0, 1]}\n",
        "df = pd.DataFrame(data)\n",
        "\n",
        "# i) Filter products with sales greater than 1000 in the last quarter\n",
        "filtered_df = df[df['Sales (Last Quarter)'] > 1000]\n",
        "print(filtered_df)\n",
        "\n",
        "# ii) Sort the dataset by stock in ascending order\n",
        "sorted_df = df.sort_values(by='Stock')\n",
        "print(sorted_df)\n",
        "\n",
        "# iii) Add a new column to calculate stock to sales ratio\n",
        "df['Stock/Sales Ratio'] = df['Stock'] / df['Sales (Last Quarter)']\n",
        "print(df)\n",
        "\n",
        "# iv) Handle missing data\n",
        "# a) For missing Sales Data, replace with the average sales across all products\n",
        "df['Sales (Last Quarter)'].fillna(df['Sales (Last Quarter)'].mean(), inplace=True)\n",
        "\n",
        "# b) For missing Stock Data, replace with the median stock value of all products\n",
        "df['Stock'].fillna(df['Stock'].median(), inplace=True)\n",
        "\n",
        "# c) For missing Reviewed Data, replace with 0 (assuming the product hasn't been reviewed)\n",
        "df['Reviewed'].fillna(0, inplace=True)\n",
        "\n",
        "print(df)"
      ]
    }
  ]
}