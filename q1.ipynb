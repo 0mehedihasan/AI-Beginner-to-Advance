{
  "nbformat": 4,
  "nbformat_minor": 0,
  "metadata": {
    "colab": {
      "provenance": [],
      "authorship_tag": "ABX9TyM+CN3J7feB5FEsSnHdhW9O",
      "include_colab_link": true
    },
    "kernelspec": {
      "name": "python3",
      "display_name": "Python 3"
    },
    "language_info": {
      "name": "python"
    }
  },
  "cells": [
    {
      "cell_type": "markdown",
      "metadata": {
        "id": "view-in-github",
        "colab_type": "text"
      },
      "source": [
        "<a href=\"https://colab.research.google.com/github/0mehedihasan/AI-Beginner-to-Advance/blob/main/q1.ipynb\" target=\"_parent\"><img src=\"https://colab.research.google.com/assets/colab-badge.svg\" alt=\"Open In Colab\"/></a>"
      ]
    },
    {
      "cell_type": "code",
      "execution_count": null,
      "metadata": {
        "id": "rqfBeZkgqF1p"
      },
      "outputs": [],
      "source": [
        "import numpy as np\n",
        "\n",
        "# Daily sales for three stores\n",
        "sales = np.array([[100, 200, 150, 250, 180, 220, 200],\n",
        "                  [150, 250, 180, 300, 220, 260, 250],\n",
        "                  [200, 300, 220, 350, 260, 300, 300]])\n",
        "\n",
        "# i) Total sales for each day across all stores\n",
        "total_sales = np.sum(sales, axis=0)\n",
        "print(\"Total sales for each day:\", total_sales)\n",
        "\n",
        "# ii) a) Difference in sales between Store 1 and Store 2 for each day\n",
        "diff_sales = sales[1] - sales[0]\n",
        "print(\"Difference in sales between Store 1 and Store 2:\", diff_sales)\n",
        "\n",
        "# ii) b) Average daily sales for each store\n",
        "avg_sales = np.mean(sales, axis=1)\n",
        "print(\"Average daily sales for each store:\", avg_sales)\n",
        "\n",
        "# ii) c) Maximum sales day for each store\n",
        "max_sales_day = np.argmax(sales, axis=1) + 1  # Add 1 to get day number (1-7)\n",
        "print(\"Maximum sales day for each store:\", max_sales_day)"
      ]
    }
  ]
}